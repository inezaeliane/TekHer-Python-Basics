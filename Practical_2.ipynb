{
 "cells": [
  {
   "cell_type": "markdown",
   "id": "d68c1dee",
   "metadata": {},
   "source": [
    "# Practical_2: String and files"
   ]
  },
  {
   "cell_type": "markdown",
   "id": "86fb7ce2-3693-423b-bdc9-1b4ca9c14aa6",
   "metadata": {},
   "source": [
    "### Exercise 1:\n",
    "Create a string variable `text` and assign it the value `\"Python is amazing!\"`."
   ]
  },
  {
   "cell_type": "code",
   "execution_count": 11,
   "id": "f593f607-755f-40a0-a3e2-5b8d07c9a3b6",
   "metadata": {},
   "outputs": [
    {
     "name": "stdout",
     "output_type": "stream",
     "text": [
      "Python is amazing!\n"
     ]
    }
   ],
   "source": [
    "text = \"Python is amazing!\"\n",
    "print(text)"
   ]
  },
  {
   "cell_type": "markdown",
   "id": "d3ff5428-62c9-4930-a0b1-c0849b78787e",
   "metadata": {},
   "source": [
    "### Exercise 2:\n",
    "Find the length of the string `\"Hello, World!\"` and store it in a variable `length`."
   ]
  },
  {
   "cell_type": "code",
   "execution_count": 14,
   "id": "32e15b8f-8bcc-4dce-9080-96343294da0f",
   "metadata": {},
   "outputs": [
    {
     "data": {
      "text/plain": [
       "13"
      ]
     },
     "execution_count": 14,
     "metadata": {},
     "output_type": "execute_result"
    }
   ],
   "source": [
    "length = len(\"Hello, World!\")\n",
    "length"
   ]
  },
  {
   "cell_type": "markdown",
   "id": "c2e021aa-2dc7-49d3-aaa3-76bfad2d8c14",
   "metadata": {},
   "source": [
    "### Exercise 3:\n",
    "Convert the string `\"python programming\"` to uppercase and store it in a variable `upper_text`."
   ]
  },
  {
   "cell_type": "code",
   "execution_count": 19,
   "id": "057fb6f4-bfa2-440d-899f-d4fa2ab48945",
   "metadata": {},
   "outputs": [
    {
     "name": "stdout",
     "output_type": "stream",
     "text": [
      "PYTHON PROGRAMMING\n"
     ]
    }
   ],
   "source": [
    "upper_text = \"python programming\".upper()\n",
    "print(upper_text)"
   ]
  },
  {
   "cell_type": "markdown",
   "id": "1133446c-3e0c-410b-8831-193fd686bf73",
   "metadata": {},
   "source": [
    "### Exercise 4:\n",
    "Extract the first 5 characters from the string `\"Artificial Intelligence\"`."
   ]
  },
  {
   "cell_type": "code",
   "execution_count": 48,
   "id": "82a42888-ae5b-4814-a879-f552b5b345e2",
   "metadata": {},
   "outputs": [
    {
     "name": "stdout",
     "output_type": "stream",
     "text": [
      "Artif\n"
     ]
    }
   ],
   "source": [
    "course= \"Artificial Intelligence\"[:5]\n",
    "print(course)"
   ]
  },
  {
   "cell_type": "markdown",
   "id": "318007e9-819c-4aa6-98f8-d6612cf41879",
   "metadata": {},
   "source": [
    "### Exercise 5:\n",
    "Concatenate the strings `\"Hello\"` and `\"World\"` with a space in between."
   ]
  },
  {
   "cell_type": "code",
   "execution_count": 29,
   "id": "7ea6fa02-c371-404c-ba88-42656c2a1e7d",
   "metadata": {},
   "outputs": [
    {
     "name": "stdout",
     "output_type": "stream",
     "text": [
      "Hello World\n"
     ]
    }
   ],
   "source": [
    "greeting = \"Hello\" + \" \" + \"World\"\n",
    "print(greeting)"
   ]
  },
  {
   "cell_type": "markdown",
   "id": "4283234f-b295-4b9f-b71e-dcb0c74a5313",
   "metadata": {},
   "source": [
    "### Exercise 6:\n",
    "Replace the word `\"dog\"` with `\"cat\"` in the string `\"The quick brown dog jumps over the lazy dog.\"`"
   ]
  },
  {
   "cell_type": "code",
   "execution_count": 36,
   "id": "6c669194-7197-43e6-839e-e4b34b5ab787",
   "metadata": {},
   "outputs": [
    {
     "name": "stdout",
     "output_type": "stream",
     "text": [
      "The quick brown cat jumps over the lazy cat.\n"
     ]
    }
   ],
   "source": [
    "text = \"The quick brown dog jumps over the lazy dog.\"\n",
    "new_text = text.replace(\"dog\", \"cat\")\n",
    "print(new_text)"
   ]
  },
  {
   "cell_type": "markdown",
   "id": "5c601867-6b11-462c-82b0-686b8385773c",
   "metadata": {},
   "source": [
    "### Exercise 7:\n",
    "Split the string `\"apple,banana,orange\"` by commas and store the result in a list `fruits_list`."
   ]
  },
  {
   "cell_type": "code",
   "execution_count": 41,
   "id": "b94294f5-c231-4856-adc9-56100af2d218",
   "metadata": {
    "jupyter": {
     "source_hidden": true
    }
   },
   "outputs": [
    {
     "name": "stdout",
     "output_type": "stream",
     "text": [
      "['apple', 'banana', 'orange']\n"
     ]
    }
   ],
   "source": [
    "fruits_list = \"apple,banana,orange\".split(\",\")\n",
    "print(fruits_list)"
   ]
  },
  {
   "cell_type": "markdown",
   "id": "3554342e-2ad2-41b4-981c-6b4ce85c7c93",
   "metadata": {},
   "source": [
    "### Exercise 8:\n",
    "Use string formatting to create the sentence `\"My name is Alice and I am 25 years old.\"`, where the name and age are variables."
   ]
  },
  {
   "cell_type": "code",
   "execution_count": 46,
   "id": "2e9eda8d-29f9-4587-a950-08b15e373ad7",
   "metadata": {},
   "outputs": [
    {
     "name": "stdout",
     "output_type": "stream",
     "text": [
      "My name is Alice and I am 25 years old.\n"
     ]
    }
   ],
   "source": [
    "name = \"Alice\"\n",
    "age = 25\n",
    "sentence = f\"My name is {name} and I am {age} years old.\"\n",
    "print(sentence)"
   ]
  },
  {
   "cell_type": "markdown",
   "id": "1e5bb36e-dff0-49b2-8627-34f9c1e8d24b",
   "metadata": {},
   "source": [
    "### Exercise 9:\n",
    "Check if the string `\"python\"` is present in the sentence `\"I love python programming\"`."
   ]
  },
  {
   "cell_type": "code",
   "execution_count": 53,
   "id": "d0454203-690b-4c85-9f59-862620617df5",
   "metadata": {},
   "outputs": [
    {
     "data": {
      "text/plain": [
       "True"
      ]
     },
     "execution_count": 53,
     "metadata": {},
     "output_type": "execute_result"
    }
   ],
   "source": [
    "sentence = \"I love python programming\"\n",
    "is_present = \"python\" in sentence\n",
    "is_present"
   ]
  },
  {
   "cell_type": "markdown",
   "id": "4966b081-16fe-4485-ab4a-ed0ec633ea72",
   "metadata": {},
   "source": [
    "### Exercise 10:\n",
    "Count the number of occurrences of the letter `\"e\"` in the string `\"Elephant is an elegant animal\"`.\n"
   ]
  },
  {
   "cell_type": "code",
   "execution_count": 58,
   "id": "807653f9-ad1a-4e42-86e0-6b8a0f0db243",
   "metadata": {},
   "outputs": [
    {
     "data": {
      "text/plain": [
       "3"
      ]
     },
     "execution_count": 58,
     "metadata": {},
     "output_type": "execute_result"
    }
   ],
   "source": [
    "text = \"Elephant is an elegant animal\"\n",
    "count_e = text.count(\"e\")\n",
    "count_e"
   ]
  },
  {
   "cell_type": "markdown",
   "id": "8821d9bf-82d4-4cca-b8c9-0fe0a60a9d9d",
   "metadata": {},
   "source": [
    "### Exercise 11:\n",
    "Remove any leading and trailing spaces from the string `\"   Data Science   \"`."
   ]
  },
  {
   "cell_type": "code",
   "execution_count": 65,
   "id": "be9dfe21-5ac4-4be6-bbb6-cc416e9cf4cb",
   "metadata": {},
   "outputs": [
    {
     "data": {
      "text/plain": [
       "'Data Science'"
      ]
     },
     "execution_count": 65,
     "metadata": {},
     "output_type": "execute_result"
    }
   ],
   "source": [
    "text = \"   Data Science   \"\n",
    "new_text = text.strip()\n",
    "new_text"
   ]
  },
  {
   "cell_type": "markdown",
   "id": "6a554dbc-d65b-45e3-ada1-30930efecb44",
   "metadata": {},
   "source": [
    "### Exercise 12:\n",
    "Convert the string `\"100\"` into an integer and store it in a variable `int_value`."
   ]
  },
  {
   "cell_type": "code",
   "execution_count": 70,
   "id": "4d6f133f-adce-4d93-a901-5c2e372dc169",
   "metadata": {},
   "outputs": [
    {
     "data": {
      "text/plain": [
       "100"
      ]
     },
     "execution_count": 70,
     "metadata": {},
     "output_type": "execute_result"
    }
   ],
   "source": [
    "int_value = int(\"100\")\n",
    "int_value"
   ]
  },
  {
   "cell_type": "markdown",
   "id": "51424fc1-83ae-4716-bb9a-e486c2f3208d",
   "metadata": {},
   "source": [
    "### Exercise 13:\n",
    "Extract the substring `\"pro\"` from the string `\"programming\"`."
   ]
  },
  {
   "cell_type": "code",
   "execution_count": 77,
   "id": "5cac0391-5390-48cd-8dbe-3594891fe0dd",
   "metadata": {},
   "outputs": [
    {
     "name": "stdout",
     "output_type": "stream",
     "text": [
      "pro\n"
     ]
    }
   ],
   "source": [
    "name = \"programming\"\n",
    "new_name=name[:3]\n",
    "print(new_name)"
   ]
  },
  {
   "cell_type": "markdown",
   "id": "598a1f02-5f32-4610-8f0a-162839aa0412",
   "metadata": {},
   "source": [
    "### Exercise 14:\n",
    "Check if the string `\"data\"` starts with `\"da\"` and ends with `\"ta\"`."
   ]
  },
  {
   "cell_type": "code",
   "execution_count": 88,
   "id": "8db27e00-e7ee-41dc-a645-80d8885d7380",
   "metadata": {},
   "outputs": [
    {
     "name": "stdout",
     "output_type": "stream",
     "text": [
      "True\n",
      "True\n"
     ]
    }
   ],
   "source": [
    "text = \"data\"\n",
    "starts = text.startswith(\"da\")\n",
    "ends = text.endswith(\"ta\")\n",
    "print(starts)\n",
    "print(ends)"
   ]
  },
  {
   "cell_type": "markdown",
   "id": "7e4058be-c19b-4952-b2be-b465a03e5404",
   "metadata": {},
   "source": [
    "### Exercise 15:\n",
    "Reverse the string `\"machine learning\"` and store the result in `reversed_text`"
   ]
  },
  {
   "cell_type": "code",
   "execution_count": 95,
   "id": "5e790b6b-9c45-4303-8578-efb0a3449e61",
   "metadata": {},
   "outputs": [
    {
     "name": "stdout",
     "output_type": "stream",
     "text": [
      "gninrael enihcam\n"
     ]
    }
   ],
   "source": [
    "text=\"machine learning\"\n",
    "reversed_text=text[::-1]\n",
    "print(reversed_text)"
   ]
  },
  {
   "cell_type": "markdown",
   "id": "cfb123a4-4955-48d4-8dc5-d6556082ff87",
   "metadata": {},
   "source": [
    "### Exercise 16:\n",
    "Convert the first letter of each word in the string `\"machine learning is fun\"` to uppercase."
   ]
  },
  {
   "cell_type": "code",
   "execution_count": 100,
   "id": "2ade21cd-98ac-416f-915c-a3728fe1eb64",
   "metadata": {},
   "outputs": [
    {
     "name": "stdout",
     "output_type": "stream",
     "text": [
      "Machine Learning Is Fun\n"
     ]
    }
   ],
   "source": [
    "text = \"machine learning is fun\"\n",
    "new_text = text.title()\n",
    "print(new_text)"
   ]
  },
  {
   "cell_type": "markdown",
   "id": "36cad266-4367-4890-a235-cfa8728e5c25",
   "metadata": {},
   "source": [
    "### Exercise 17:\n",
    "Create a multiline string representing a poem and store it in a variable `poem`.\n"
   ]
  },
  {
   "cell_type": "code",
   "execution_count": 105,
   "id": "280ef18b-12ab-47a0-9b1b-f86def00dc45",
   "metadata": {},
   "outputs": [
    {
     "name": "stdout",
     "output_type": "stream",
     "text": [
      "Roses are red,\n",
      "Violets are blue,\n",
      "Python is fun,\n",
      "And so are you.\n"
     ]
    }
   ],
   "source": [
    "poem = \"\"\"Roses are red,\n",
    "Violets are blue,\n",
    "Python is fun,\n",
    "And so are you.\"\"\"\n",
    "print(poem)\n"
   ]
  },
  {
   "cell_type": "markdown",
   "id": "256f6b04-d717-4edd-ac1e-c3677122103b",
   "metadata": {},
   "source": [
    "### Exercise 18:\n",
    "Write a string to a file named `\"output.txt\"`."
   ]
  },
  {
   "cell_type": "code",
   "execution_count": 34,
   "id": "fd0e3009-8a57-4977-9a3c-eee1aebeb73b",
   "metadata": {},
   "outputs": [],
   "source": [
    "\n",
    "file = open('output.txt', 'w')\n",
    "file.write('Hello, World!')\n",
    "file.close()\n"
   ]
  },
  {
   "cell_type": "markdown",
   "id": "f584f1fc-04ed-4845-881d-94dcc4549c4c",
   "metadata": {},
   "source": [
    "### Exercise 19:\n",
    "Read the contents of a file named `\"data.txt\"` and print it line by line."
   ]
  },
  {
   "cell_type": "code",
   "execution_count": 26,
   "id": "992599e3-8d4b-479d-b31b-b42d7a02ca0f",
   "metadata": {
    "jupyter": {
     "source_hidden": true
    }
   },
   "outputs": [
    {
     "name": "stdout",
     "output_type": "stream",
     "text": [
      "Apple\n",
      "Banana\n",
      "Orange\n"
     ]
    }
   ],
   "source": [
    "# Open the file in read mode\n",
    "with open(r\"C:\\Users\\user\\OneDrive\\Desktop\\Assignment\\TekHer-Python-Basics\\data\\data.txt\") as file:\n",
    "    # Read and print each line\n",
    "    for line in file:\n",
    "        print(line.strip())  # .strip() removes leading/trailing whitespace\n"
   ]
  },
  {
   "cell_type": "code",
   "execution_count": 38,
   "id": "f6f6a32f-5fd3-4c55-a2d6-07b03740af4a",
   "metadata": {},
   "outputs": [
    {
     "name": "stdout",
     "output_type": "stream",
     "text": [
      "['Apple\\n', 'Banana\\n', 'Orange\\n']\n"
     ]
    }
   ],
   "source": [
    "file = open(r\"C:\\Users\\user\\OneDrive\\Desktop\\Assignment\\TekHer-Python-Basics\\data\\data.txt\", 'r')\n",
    "lines = file.readlines()\n",
    "print(lines)\n",
    "file.close()"
   ]
  },
  {
   "cell_type": "markdown",
   "id": "a86ceecd-6eda-44bd-b822-23acf7dc80cb",
   "metadata": {},
   "source": [
    "### Exercise 20:\n",
    "Check if a file `\"example.txt\"` exists before opening it."
   ]
  },
  {
   "cell_type": "code",
   "execution_count": 128,
   "id": "0f5ba80b-ba62-4879-828d-07dbc44ed0a5",
   "metadata": {},
   "outputs": [
    {
     "name": "stdout",
     "output_type": "stream",
     "text": [
      "File does not exist.\n"
     ]
    }
   ],
   "source": [
    "import os\n",
    "\n",
    "if os.path.exists(\"example.txt\"):\n",
    "    with open(\"example.txt\", \"r\") as file:\n",
    "        content = file.read()\n",
    "        print(content)\n",
    "else:\n",
    "    print(\"File does not exist.\")\n"
   ]
  },
  {
   "cell_type": "markdown",
   "id": "f8b569f0-3ac0-463b-9086-d6ffd650338e",
   "metadata": {},
   "source": [
    "### Exercise 21:\n",
    "Append a new line `\"This is a new line\"` to an existing file `\"notes.txt\"`."
   ]
  },
  {
   "cell_type": "code",
   "execution_count": 97,
   "id": "83298d21-546a-4b8f-8d74-884a502f94e6",
   "metadata": {},
   "outputs": [],
   "source": [
    "file = open(r\"C:\\Users\\user\\OneDrive\\Desktop\\Assignment\\TekHer-Python-Basics\\data\\notes.txt\", 'a')\n",
    "file.write('This is new line.\\n')\n",
    "file.close()"
   ]
  },
  {
   "cell_type": "markdown",
   "id": "5489f9be-db4a-4a6f-826f-2314201ebd21",
   "metadata": {},
   "source": [
    "### Exercise 22:\n",
    "Read the contents of a file `\"log.txt\"` and store each line in a list `log_lines`."
   ]
  },
  {
   "cell_type": "code",
   "execution_count": 103,
   "id": "cbeef4ef-c150-48e0-ac96-fc521ac6c45d",
   "metadata": {},
   "outputs": [
    {
     "name": "stdout",
     "output_type": "stream",
     "text": [
      "2024-05-20 10:00:00 INFO Program started\n",
      "2024-05-20 10:05:00 issue Invalid input\n"
     ]
    }
   ],
   "source": [
    "# Open and read all lines into a list\n",
    "with open(r\"C:\\Users\\user\\OneDrive\\Desktop\\Assignment\\TekHer-Python-Basics\\data\\log.txt\", 'r') as file:\n",
    "    log_lines = file.readlines()\n",
    "\n",
    "# Optional: Print each line\n",
    "for line in log_lines:\n",
    "    print(line, end='')\n"
   ]
  },
  {
   "cell_type": "markdown",
   "id": "0c5bb538-6f86-4e1b-a6a3-87f1f1ce3cf9",
   "metadata": {},
   "source": [
    "### Exercise 23:\n",
    "Create a new file `\"report.txt\"` and write the string `\"Data analysis report\"` to it."
   ]
  },
  {
   "cell_type": "code",
   "execution_count": 93,
   "id": "4b0e6ba9-2170-4469-bf65-eb7b1e5b9af2",
   "metadata": {},
   "outputs": [],
   "source": [
    "with open(r\"C:\\Users\\user\\OneDrive\\Desktop\\Assignment\\TekHer-Python-Basics\\data\\report.txt\", 'w') as file:\n",
    "    file.write('Data analysis report')\n",
    "    "
   ]
  },
  {
   "cell_type": "markdown",
   "id": "ae4ee059-5625-4dd2-9348-7bed8d4a68d5",
   "metadata": {},
   "source": [
    "### Exercise 24:\n",
    "Replace the word `\"error\"` with `\"issue\"` in a file `\"log.txt\"`."
   ]
  },
  {
   "cell_type": "code",
   "execution_count": 82,
   "id": "ce618bf0-e341-426f-978e-9f7ac8660f17",
   "metadata": {},
   "outputs": [
    {
     "name": "stdout",
     "output_type": "stream",
     "text": [
      "2024-05-20 10:00:00 INFO Program started\n",
      "2024-05-20 10:05:00 issue Invalid input\n",
      "\n"
     ]
    }
   ],
   "source": [
    "\n",
    "with open(r\"C:\\Users\\user\\OneDrive\\Desktop\\Assignment\\TekHer-Python-Basics\\data\\log.txt\", 'r') as file:\n",
    "    content = file.read()\n",
    "\n",
    "updated_content = content.replace('error', 'issue')\n",
    "\n",
    "with open(r\"C:\\Users\\user\\OneDrive\\Desktop\\Assignment\\TekHer-Python-Basics\\data\\log.txt\", 'w') as file:\n",
    "    file.write(updated_content)\n",
    "    print(updated_content)\n",
    "    \n"
   ]
  },
  {
   "cell_type": "markdown",
   "id": "9a6b8f06-d5b7-46ed-aa62-6937c4967f66",
   "metadata": {},
   "source": [
    "### Exercise 25:\n",
    "Count the number of words in a text file `\"document.txt\"`."
   ]
  },
  {
   "cell_type": "code",
   "execution_count": 48,
   "id": "89df4791-c09f-48e1-beef-54fd27f3c40f",
   "metadata": {},
   "outputs": [
    {
     "name": "stdout",
     "output_type": "stream",
     "text": [
      "Number of words: 12\n"
     ]
    }
   ],
   "source": [
    "\n",
    "with open(r\"C:\\Users\\user\\OneDrive\\Desktop\\Assignment\\TekHer-Python-Basics\\data\\document.txt\", 'r') as file:\n",
    "    content = file.read()\n",
    "\n",
    "words = content.split()\n",
    "\n",
    "word_count = len(words)\n",
    "\n",
    "print(\"Number of words:\", word_count)\n"
   ]
  },
  {
   "cell_type": "markdown",
   "id": "173d27eb-a4de-4635-9e77-73fa0bab72e3",
   "metadata": {},
   "source": [
    "### Exercise 26:\n",
    "Write a Python script that reads a file `\"essay.txt\"` and prints the total number of lines, words, and characters."
   ]
  },
  {
   "cell_type": "code",
   "execution_count": 42,
   "id": "cd904e8b-37eb-4a94-a43d-782679d7590c",
   "metadata": {},
   "outputs": [
    {
     "name": "stdout",
     "output_type": "stream",
     "text": [
      "['The impact of technology on society is profound and far-reaching.\\n']\n"
     ]
    }
   ],
   "source": [
    "f = open(r\"C:\\Users\\user\\OneDrive\\Desktop\\Assignment\\TekHer-Python-Basics\\data\\essay.txt\",'r')\n",
    "lines = f.readlines()\n",
    "print(lines)\n",
    "f.close() "
   ]
  },
  {
   "cell_type": "markdown",
   "id": "7c48820f-265a-4655-bac1-533998cbff20",
   "metadata": {},
   "source": [
    "### Exercise 27:\n",
    "Copy the contents of one file `\"source.txt\"` to another file `\"destination.txt\"`.\n"
   ]
  },
  {
   "cell_type": "code",
   "execution_count": 111,
   "id": "9409fab4-7b1f-4371-ac08-e92f8628a509",
   "metadata": {},
   "outputs": [],
   "source": [
    "\n",
    "with open(r\"C:\\Users\\user\\OneDrive\\Desktop\\Assignment\\TekHer-Python-Basics\\data\\source.txt\", 'r') as source_file,open(r\"C:\\Users\\user\\OneDrive\\Desktop\\Assignment\\TekHer-Python-Basics\\data\\destination.txt\", 'w') as dest_file:\n",
    "\n",
    "    dest_file.write(source_file.read())\n"
   ]
  },
  {
   "cell_type": "markdown",
   "id": "889222ae-bffe-47e8-9411-a6db775280ee",
   "metadata": {},
   "source": [
    "### Exercise 28:\n",
    "Write a Python function that takes a filename as input and returns the number of lines in the file."
   ]
  },
  {
   "cell_type": "code",
   "execution_count": 115,
   "id": "bd329407-41da-4654-9eec-c4efdbf3e165",
   "metadata": {},
   "outputs": [],
   "source": [
    "def count_lines(filename):\n",
    "    try:\n",
    "        with open(filename, 'r') as file:\n",
    "            lines = file.readlines()\n",
    "            return len(lines)\n",
    "    except FileNotFoundError:\n",
    "        print(f\"File '{filename}' not found.\")\n",
    "        return 0\n"
   ]
  },
  {
   "cell_type": "code",
   "execution_count": 117,
   "id": "2915422b-24ff-423c-9816-15c11afb3caf",
   "metadata": {},
   "outputs": [
    {
     "name": "stdout",
     "output_type": "stream",
     "text": [
      "Number of lines: 1\n"
     ]
    }
   ],
   "source": [
    "file_name = r\"C:\\Users\\user\\OneDrive\\Desktop\\Assignment\\TekHer-Python-Basics\\data\\example.txt\"\n",
    "line_count = count_lines(file_name)\n",
    "print(\"Number of lines:\", line_count)\n"
   ]
  },
  {
   "cell_type": "markdown",
   "id": "a3b43ba7-7d2a-4ee1-9ab2-4f2f5acdaf06",
   "metadata": {},
   "source": [
    "### Exercise 29:\n",
    "Extract all the words from a text file `\"article.txt\"` that contain more than 5 characters.\n"
   ]
  },
  {
   "cell_type": "code",
   "execution_count": 121,
   "id": "d50eede3-2ae4-4dbd-b643-09fb750e81ae",
   "metadata": {},
   "outputs": [
    {
     "name": "stdout",
     "output_type": "stream",
     "text": [
      "Words with more than 5 characters:\n",
      "['sample', 'article', 'applications.', 'multiple', 'lines.']\n"
     ]
    }
   ],
   "source": [
    "\n",
    "with open(r\"C:\\Users\\user\\OneDrive\\Desktop\\Assignment\\TekHer-Python-Basics\\data\\article.txt\", 'r') as file:\n",
    "    content = file.read()\n",
    "\n",
    "long_words = [word for word in content.split() if len(word) > 5]\n",
    "\n",
    "print(\"Words with more than 5 characters:\")\n",
    "print(long_words)\n"
   ]
  },
  {
   "cell_type": "markdown",
   "id": "142947d8-2c1b-484b-b23e-1f39fc5a895f",
   "metadata": {},
   "source": [
    "### Exercise 30:\n",
    "Convert the contents of a file `\"notes.txt\"` to uppercase and save the result in another file `\"uppercase_notes.txt\"`"
   ]
  },
  {
   "cell_type": "code",
   "execution_count": 127,
   "id": "ffbcbafa-303d-4535-83da-cac11c4dea21",
   "metadata": {},
   "outputs": [
    {
     "name": "stdout",
     "output_type": "stream",
     "text": [
      "PYTHON IS A VERSATILE LANGUAGE.\n",
      "GREAT FOR DATA ANALYSIS.\n",
      "THIS IS NEW LINE.\n",
      "THIS IS NEW LINE.\n",
      "\n",
      "Python is a versatile language.\n",
      "Great for data analysis.\n",
      "This is new line.\n",
      "This is new line.\n",
      "\n"
     ]
    }
   ],
   "source": [
    "\n",
    "with open(r\"C:\\Users\\user\\OneDrive\\Desktop\\Assignment\\TekHer-Python-Basics\\data\\notes.txt\", 'r') as infile:\n",
    "    content = infile.read()\n",
    "\n",
    "uppercase_content = content.upper()\n",
    "\n",
    "with open(r\"C:\\Users\\user\\OneDrive\\Desktop\\Assignment\\TekHer-Python-Basics\\data\\uppercase_notes.txt\", 'w') as outfile:\n",
    "    outfile.write(uppercase_content)\n",
    "print(uppercase_content)\n",
    "print(content)"
   ]
  },
  {
   "cell_type": "markdown",
   "id": "4965d597-1d93-4d6e-b622-3a3688b87e2f",
   "metadata": {},
   "source": [
    "### Exercise 31:\n",
    "Write a Python script that reads a file and removes all empty lines.\n"
   ]
  },
  {
   "cell_type": "code",
   "execution_count": 131,
   "id": "7382045a-5fc9-4436-b90d-9194937f397f",
   "metadata": {},
   "outputs": [],
   "source": [
    "def remove_empty_lines(input_file, output_file):\n",
    "    with open(input_file, 'r') as infile:\n",
    "        lines = infile.readlines()\n",
    "\n",
    "    non_empty_lines = [line for line in lines if line.strip()]\n",
    "\n",
    "    with open(output_file, 'w') as outfile:\n",
    "        outfile.writelines(non_empty_lines)\n"
   ]
  },
  {
   "cell_type": "markdown",
   "id": "d7989c2b-34b3-4624-afb8-94853f9bbbfb",
   "metadata": {},
   "source": [
    "### Exercise 32:\n",
    "Open a file `\"config.txt\"` in both read and write mode.\n"
   ]
  },
  {
   "cell_type": "code",
   "execution_count": 135,
   "id": "e71ac722-df17-4a89-9608-1e9f7dff60d4",
   "metadata": {},
   "outputs": [
    {
     "name": "stdout",
     "output_type": "stream",
     "text": [
      "Current content:\n",
      " Updated linee\n",
      "setting2=false\n",
      "threshold=0.8\n",
      "\n"
     ]
    }
   ],
   "source": [
    "with open(r\"C:\\Users\\user\\OneDrive\\Desktop\\Assignment\\TekHer-Python-Basics\\data\\config.txt\", 'r+') as file:\n",
    "    content = file.read()       # Read the existing content\n",
    "    print(\"Current content:\\n\", content)\n",
    "\n",
    "    file.seek(0)                \n",
    "    file.write(\"Updated line\")  \n"
   ]
  },
  {
   "cell_type": "markdown",
   "id": "81016841-9d76-4bae-b328-4926183cbc38",
   "metadata": {},
   "source": [
    "### Exercise 33:\n",
    "Write a Python function that reads a file and prints the longest line in the file."
   ]
  },
  {
   "cell_type": "code",
   "execution_count": 145,
   "id": "d222e657-2f45-407c-a1a6-da2a3e808066",
   "metadata": {},
   "outputs": [
    {
     "name": "stdout",
     "output_type": "stream",
     "text": [
      "Longest line:\n",
      "This is an example text file used for demonstration.\n"
     ]
    }
   ],
   "source": [
    "def print_longest_line(filename):\n",
    "    try:\n",
    "        with open(filename, 'r') as file:\n",
    "            lines = file.readlines()\n",
    "        if not lines:\n",
    "            print(\"The file is empty.\")\n",
    "            return\n",
    "        longest_line = max(lines, key=len)\n",
    "        print(\"Longest line:\")\n",
    "        print(longest_line.rstrip())  \n",
    "    except FileNotFoundError:\n",
    "        print(f\"File '{filename}' not found.\")\n",
    "\n",
    "print_longest_line(r\"C:\\Users\\user\\OneDrive\\Desktop\\Assignment\\TekHer-Python-Basics\\data\\example.txt\")\n",
    "\n",
    "\n",
    "\n"
   ]
  },
  {
   "cell_type": "markdown",
   "id": "8bd68769-60c0-4b64-a17f-0f3416db4fa0",
   "metadata": {},
   "source": [
    "### Exercise 34:\n",
    "Write a Python script to count the frequency of each letter in a text file `\"message.txt\"`."
   ]
  },
  {
   "cell_type": "code",
   "execution_count": 143,
   "id": "c476f8da-286f-4ac3-92f2-9c01feadeb69",
   "metadata": {},
   "outputs": [
    {
     "name": "stdout",
     "output_type": "stream",
     "text": [
      "a 2\n",
      "e 6\n",
      "f 1\n",
      "g 1\n",
      "h 3\n",
      "i 3\n",
      "l 3\n",
      "m 1\n",
      "o 1\n",
      "r 1\n",
      "s 4\n",
      "t 2\n"
     ]
    }
   ],
   "source": [
    "with open(r\"C:\\Users\\user\\OneDrive\\Desktop\\Assignment\\TekHer-Python-Basics\\data\\message.txt\") as f:\n",
    "    text = f.read().lower()\n",
    "\n",
    "freq = {}\n",
    "for ch in text:\n",
    "    if ch.isalpha():\n",
    "        freq[ch] = freq.get(ch, 0) + 1\n",
    "\n",
    "for letter in sorted(freq):\n",
    "    print(letter, freq[letter])\n"
   ]
  },
  {
   "cell_type": "markdown",
   "id": "3e53ba3b-5dbf-4aac-8430-c631272fe869",
   "metadata": {},
   "source": [
    "### Exercise 35:\n",
    "Write a Python script that reads a file and prints the total number of characters, excluding spaces.\n"
   ]
  },
  {
   "cell_type": "code",
   "execution_count": 147,
   "id": "5fb1898c-9f07-4eac-8062-f6f46763e62e",
   "metadata": {},
   "outputs": [
    {
     "name": "stdout",
     "output_type": "stream",
     "text": [
      "Total characters (excluding spaces): 45\n"
     ]
    }
   ],
   "source": [
    "with open(r\"C:\\Users\\user\\OneDrive\\Desktop\\Assignment\\TekHer-Python-Basics\\data\\example.txt\", 'r') as file:\n",
    "    content = file.read()\n",
    "\n",
    "# Remove spaces and count remaining characters\n",
    "total_chars = len(content.replace(' ', ''))\n",
    "\n",
    "print(\"Total characters (excluding spaces):\", total_chars)\n"
   ]
  },
  {
   "cell_type": "markdown",
   "id": "e7d450ce-27c2-4fde-92cc-9a2776eaadf2",
   "metadata": {},
   "source": [
    "### Exercise 36:\n",
    "Create a Python script to check whether a file is empty or not."
   ]
  },
  {
   "cell_type": "code",
   "execution_count": 151,
   "id": "e6682542-ae18-46af-892b-225c2cb31b45",
   "metadata": {},
   "outputs": [
    {
     "name": "stdout",
     "output_type": "stream",
     "text": [
      "'C:\\Users\\user\\OneDrive\\Desktop\\Assignment\\TekHer-Python-Basics\\data\\example.txt' is not empty.\n"
     ]
    }
   ],
   "source": [
    "def is_file_empty(filename):\n",
    "    try:\n",
    "        with open(filename, 'r') as file:\n",
    "            content = file.read()\n",
    "            if content:\n",
    "                print(f\"'{filename}' is not empty.\")\n",
    "            else:\n",
    "                print(f\"'{filename}' is empty.\")\n",
    "    except FileNotFoundError:\n",
    "        print(f\"File '{filename}' does not exist.\")\n",
    "\n",
    "# Example usage\n",
    "filepath = r\"C:\\Users\\user\\OneDrive\\Desktop\\Assignment\\TekHer-Python-Basics\\data\\example.txt\"\n",
    "is_file_empty(filepath)\n"
   ]
  },
  {
   "cell_type": "markdown",
   "id": "d3010b5b-e4fc-45f6-8a51-89dc00347031",
   "metadata": {},
   "source": [
    "### Exercise 37:\n",
    "Write a Python function that reads a file and removes all punctuation marks from the text.\n"
   ]
  },
  {
   "cell_type": "code",
   "execution_count": 155,
   "id": "710c064d-893e-44b0-b935-fd2871711d8d",
   "metadata": {},
   "outputs": [
    {
     "name": "stdout",
     "output_type": "stream",
     "text": [
      "This is an example text file used for demonstration\n",
      "\n"
     ]
    }
   ],
   "source": [
    "\n",
    "import string\n",
    "def remove_punctuation(filename):\n",
    "    with open(filename, 'r') as file:\n",
    "        text = file.read()\n",
    "    # Remove punctuation using str.translate\n",
    "    cleaned_text = text.translate(str.maketrans('', '', string.punctuation))\n",
    "    return cleaned_text\n",
    "\n",
    "# Example usage:\n",
    "result = remove_punctuation(r\"C:\\Users\\user\\OneDrive\\Desktop\\Assignment\\TekHer-Python-Basics\\data\\example.txt\")\n",
    "print(result)\n"
   ]
  },
  {
   "cell_type": "markdown",
   "id": "d1ba28e0-760d-4814-bc94-aa5ad698a51f",
   "metadata": {},
   "source": [
    "### Exercise 38:\n",
    "Create a Python function that writes a list of strings to a file, each string on a new line."
   ]
  },
  {
   "cell_type": "code",
   "execution_count": 159,
   "id": "27938a95-c4ff-4f69-964f-24492613d804",
   "metadata": {},
   "outputs": [
    {
     "name": "stdout",
     "output_type": "stream",
     "text": [
      "Written 3 lines to 'C:\\Users\\user\\OneDrive\\Desktop\\Assignment\\TekHer-Python-Basics\\data\\output.txt'\n"
     ]
    }
   ],
   "source": [
    "def write_list_to_file(strings, filename):\n",
    "    with open(filename, 'w') as file:\n",
    "        for s in strings:\n",
    "            file.write(s + '\\n')\n",
    "    print(f\"Written {len(strings)} lines to '{filename}'\")\n",
    "\n",
    "# Example usage:\n",
    "lines = ['First line', 'Second line', 'Third line']\n",
    "write_list_to_file(lines, r\"C:\\Users\\user\\OneDrive\\Desktop\\Assignment\\TekHer-Python-Basics\\data\\output.txt\")\n"
   ]
  },
  {
   "cell_type": "markdown",
   "id": "37d181f3-9e4d-46e1-85d1-d9821d81ab0f",
   "metadata": {},
   "source": [
    "### Exercise 39:\n",
    "Write a Python script to count the number of lines that start with a specific letter (e.g., \"A\") in a text file."
   ]
  },
  {
   "cell_type": "code",
   "execution_count": 163,
   "id": "598de777-05a0-4b7d-aba2-1230aa788c0e",
   "metadata": {},
   "outputs": [
    {
     "name": "stdout",
     "output_type": "stream",
     "text": [
      "Lines starting with 'A': 0\n"
     ]
    }
   ],
   "source": [
    "with open(r\"C:\\Users\\user\\OneDrive\\Desktop\\Assignment\\TekHer-Python-Basics\\data\\essay.txt\", \"r\", encoding=\"utf-8\") as file:\n",
    "    count = sum(1 for line in file if line.lstrip().startswith(\"A\"))\n",
    "print(\"Lines starting with 'A':\", count)\n"
   ]
  },
  {
   "cell_type": "markdown",
   "id": "7ff0adec-7f76-4d95-aaa0-8b41daa89985",
   "metadata": {},
   "source": [
    "### Exercise 40:\n",
    "Write a Python function that takes a string as input and writes it to a file `\"output.txt\"` in reverse order."
   ]
  },
  {
   "cell_type": "code",
   "execution_count": 173,
   "id": "250ac5de-fb45-41aa-85b9-fde449127b57",
   "metadata": {},
   "outputs": [
    {
     "name": "stdout",
     "output_type": "stream",
     "text": [
      "Reversed text written to C:\\Users\\user\\OneDrive\\Desktop\\Assignment\\TekHer-Python-Basics\\data\\output.txt\n"
     ]
    }
   ],
   "source": [
    "def write_reversed_string(text):\n",
    "    reversed_text = text[::-1]\n",
    "    filepath = r\"C:\\Users\\user\\OneDrive\\Desktop\\Assignment\\TekHer-Python-Basics\\data\\output.txt\"\n",
    "    with open(filepath, 'w', encoding='utf-8') as file:\n",
    "        file.write(reversed_text)\n",
    "    print(f\"Reversed text written to {filepath}\")\n",
    "\n",
    "# Example usage:\n",
    "write_reversed_string(\"Hello, World!\")\n"
   ]
  },
  {
   "cell_type": "markdown",
   "id": "485a1233-f4cd-412c-a63a-29fd4049b552",
   "metadata": {},
   "source": [
    "### Exercise 41:\n",
    "Write a Python script that reads a file and prints all the lines that contain the word `\"Python\"`.\n"
   ]
  },
  {
   "cell_type": "code",
   "execution_count": 175,
   "id": "3aa4bbfa-d624-4ace-9fef-97295d620f79",
   "metadata": {},
   "outputs": [],
   "source": [
    "def print_lines_with_python(filename):\n",
    "    try:\n",
    "        with open(filename, 'r', encoding='utf-8') as file:\n",
    "            for line in file:\n",
    "                if \"Python\" in line:\n",
    "                    print(line.strip())\n",
    "    except FileNotFoundError:\n",
    "        print(f\"Error: The file '{filename}' was not found.\")\n",
    "    except Exception as e:\n",
    "        print(f\"An error occurred: {e}\")"
   ]
  },
  {
   "cell_type": "markdown",
   "id": "549af86c-bbd3-4175-a265-4b524a13f2f2",
   "metadata": {},
   "source": [
    "### Exercise 42:\n",
    "Write a Python script that opens a file and removes all numeric digits from the file's content."
   ]
  },
  {
   "cell_type": "code",
   "execution_count": 185,
   "id": "b1b49390-1310-4fdd-a60c-adeeaaf61b7b",
   "metadata": {},
   "outputs": [
    {
     "name": "stdout",
     "output_type": "stream",
     "text": [
      "John Doe\n",
      "Jane Smith\n",
      "Alice Johnson\n",
      "\n"
     ]
    }
   ],
   "source": [
    "\n",
    "# Remove numeric digits from content\n",
    "with open(r\"C:\\Users\\user\\OneDrive\\Desktop\\Assignment\\TekHer-Python-Basics\\data\\students.txt\", \"r\") as file:\n",
    "    content = file.read()\n",
    "cleaned = ''.join(c for c in content if not c.isdigit())\n",
    "print(cleaned)"
   ]
  },
  {
   "cell_type": "markdown",
   "id": "9cf8c747-f348-4b3a-bcc7-e052b19cc823",
   "metadata": {},
   "source": [
    "### Exercise 43:\n",
    "Write a Python script to find the most frequent word in a text file `\"book.txt\"`."
   ]
  },
  {
   "cell_type": "code",
   "execution_count": 187,
   "id": "e5f71ca0-c37f-42b1-8468-7d5e69f0690c",
   "metadata": {},
   "outputs": [
    {
     "name": "stdout",
     "output_type": "stream",
     "text": [
      "Most frequent word: python\n"
     ]
    }
   ],
   "source": [
    "\n",
    "# Most frequent word in file\n",
    "from collections import Counter\n",
    "\n",
    "# Step 1: Create \"book.txt\" with sample text\n",
    "with open(r\"C:\\Users\\user\\OneDrive\\Desktop\\Assignment\\TekHer-Python-Basics\\data\\book.txt\", \"w\") as file:\n",
    "    file.write(\"Python is simple. Python is powerful. Python is popular.\\n\")\n",
    "\n",
    "# Step 2: Count most frequent word\n",
    "with open(r\"C:\\Users\\user\\OneDrive\\Desktop\\Assignment\\TekHer-Python-Basics\\data\\book.txt\", \"r\") as file:\n",
    "    words = file.read().lower().split()\n",
    "    word_counts = Counter(words)\n",
    "\n",
    "most_common = word_counts.most_common(1)\n",
    "print(\"Most frequent word:\", most_common[0][0])\n"
   ]
  },
  {
   "cell_type": "markdown",
   "id": "9222d1be-def6-4dde-b365-8851648d0f73",
   "metadata": {},
   "source": [
    "### Exercise 44:\n",
    "Write a Python script that reads a file and prints all the lines that contain exactly 5 words."
   ]
  },
  {
   "cell_type": "code",
   "execution_count": 193,
   "id": "b7772bff-83e2-44c7-ab66-7c7002af5697",
   "metadata": {},
   "outputs": [
    {
     "name": "stdout",
     "output_type": "stream",
     "text": [
      "It is intended for beginners.\n"
     ]
    }
   ],
   "source": [
    "\n",
    "# Print lines with exactly 5 words\n",
    "with open(r\"C:\\Users\\user\\OneDrive\\Desktop\\Assignment\\TekHer-Python-Basics\\data\\document.txt\", \"r\") as file:\n",
    "    for line in file:\n",
    "        if len(line.split()) == 5:\n",
    "            print(line.strip())"
   ]
  },
  {
   "cell_type": "markdown",
   "id": "10a648c2-ea80-4a68-a1e2-96a1f9ccff57",
   "metadata": {},
   "source": [
    "### Exercise 45:\n",
    "Write a Python script to read a file and print the first and last line of the file."
   ]
  },
  {
   "cell_type": "code",
   "execution_count": 195,
   "id": "db8ed424-d902-4b18-8d35-da46d10c200b",
   "metadata": {},
   "outputs": [
    {
     "name": "stdout",
     "output_type": "stream",
     "text": [
      "First: Python is a versatile language.\n",
      "Last: This is new line.\n"
     ]
    }
   ],
   "source": [
    "# Print first and last line of a file\n",
    "with open(r\"C:\\Users\\user\\OneDrive\\Desktop\\Assignment\\TekHer-Python-Basics\\data\\notes.txt\", \"r\") as file:\n",
    "    lines = file.readlines()\n",
    "    if lines:\n",
    "        print(\"First:\", lines[0].strip())\n",
    "        print(\"Last:\", lines[-1].strip())"
   ]
  },
  {
   "cell_type": "markdown",
   "id": "ad093044-b630-489b-a599-a23fa2613195",
   "metadata": {},
   "source": [
    "### Exercise 46:\n",
    "Write a Python script that checks if a file `\"students.txt\"` is writable."
   ]
  },
  {
   "cell_type": "code",
   "execution_count": 199,
   "id": "8b97b0e6-0811-40e7-9e0f-fe35b30720cc",
   "metadata": {},
   "outputs": [
    {
     "name": "stdout",
     "output_type": "stream",
     "text": [
      "The file is writable.\n"
     ]
    }
   ],
   "source": [
    "import os\n",
    "# Check if file is writable\n",
    "if os.access(r\"C:\\Users\\user\\OneDrive\\Desktop\\Assignment\\TekHer-Python-Basics\\data\\students.txt\", os.W_OK):\n",
    "    print(\"The file is writable.\")\n",
    "else:\n",
    "    print(\"The file is not writable.\")"
   ]
  },
  {
   "cell_type": "markdown",
   "id": "f268226b-5d44-4f55-945c-14441d308149",
   "metadata": {},
   "source": [
    "### Exercise 47:\n",
    "Create a Python function that opens a file and returns the number of unique words in the file."
   ]
  },
  {
   "cell_type": "code",
   "execution_count": 201,
   "id": "096dd6d1-8ab7-4e8a-bb43-e32684f2aea9",
   "metadata": {},
   "outputs": [
    {
     "name": "stdout",
     "output_type": "stream",
     "text": [
      "Unique word count: 8\n"
     ]
    }
   ],
   "source": [
    "\n",
    "# Count unique words in a file\n",
    "# Step 1: Create a file with sample content\n",
    "with open(\"sample.txt\", \"w\") as file:\n",
    "    file.write(\"Python is fun. Python is easy to learn. Learning is good.\")\n",
    "\n",
    "# Step 2: Define the function\n",
    "def count_unique_words(filename):\n",
    "    with open(filename, \"r\") as file:\n",
    "        words = file.read().lower().split()\n",
    "        return len(set(words))\n",
    "\n",
    "# Step 3: Call the function and print the result\n",
    "unique_word_count = count_unique_words(\"sample.txt\")\n",
    "print(\"Unique word count:\", unique_word_count)\n"
   ]
  },
  {
   "cell_type": "markdown",
   "id": "ef245362-6b2e-4103-b734-c25ad3c1a4e8",
   "metadata": {},
   "source": [
    "### Exercise 48:\n",
    "Write a Python script that reads a file and prints all lines in reverse order."
   ]
  },
  {
   "cell_type": "code",
   "execution_count": 203,
   "id": "64305d94-775e-46cc-8925-fb24361b5a6f",
   "metadata": {},
   "outputs": [
    {
     "name": "stdout",
     "output_type": "stream",
     "text": [
      "This is new line.\n",
      "This is new line.\n",
      "Great for data analysis.\n",
      "Python is a versatile language.\n"
     ]
    }
   ],
   "source": [
    "\n",
    "# Print lines in reverse order\n",
    "with open(r\"C:\\Users\\user\\OneDrive\\Desktop\\Assignment\\TekHer-Python-Basics\\data\\notes.txt\", \"r\") as file:\n",
    "    lines = file.readlines()\n",
    "for line in reversed(lines):\n",
    "    print(line.strip())\n"
   ]
  },
  {
   "cell_type": "markdown",
   "id": "86ebcd8b-7362-46fb-9a83-810abbf2931f",
   "metadata": {},
   "source": [
    "### Exercise 49:\n",
    "Write a Python function that reads a file and returns the most common letter in the text."
   ]
  },
  {
   "cell_type": "code",
   "execution_count": 181,
   "id": "c1f6610b-b962-4e52-a40e-a3d88f2434fb",
   "metadata": {},
   "outputs": [
    {
     "name": "stdout",
     "output_type": "stream",
     "text": [
      "e\n"
     ]
    }
   ],
   "source": [
    "def most_common_letter(filename):\n",
    "    with open(filename) as f:\n",
    "        text = f.read().lower()\n",
    "    letters = [c for c in text if c.isalpha()]\n",
    "    return max(set(letters), key=letters.count) if letters else None\n",
    "\n",
    "# Call the function with your file path like this:\n",
    "file_path = r\"C:\\Users\\user\\OneDrive\\Desktop\\Assignment\\TekHer-Python-Basics\\data\\message.txt\"\n",
    "print(most_common_letter(file_path))\n"
   ]
  },
  {
   "cell_type": "markdown",
   "id": "0201a51e-1fce-4ddb-aa2e-6e429e7804b3",
   "metadata": {},
   "source": [
    "### Exercise 50:\n",
    "Write a Python script that reads a file and replaces every occurrence of `\"Python\"` with `\"Java\"`."
   ]
  },
  {
   "cell_type": "code",
   "execution_count": 205,
   "id": "9ce53c77-c56f-4ed1-9144-6f08be775e81",
   "metadata": {},
   "outputs": [
    {
     "name": "stdout",
     "output_type": "stream",
     "text": [
      "Updated content:\n",
      "Java is amazing.\n",
      "I enjoy Java programming.\n"
     ]
    }
   ],
   "source": [
    "\n",
    "# Replace \"Python\" with \"Java\"\n",
    "# Step 1: Create file.txt with some \"Python\" text\n",
    "with open(\"file.txt\", \"w\") as file:\n",
    "    file.write(\"Python is amazing.\\nI enjoy Python programming.\")\n",
    "\n",
    "# Step 2: Replace \"Python\" with \"Java\"\n",
    "with open(\"file.txt\", \"r\") as file:\n",
    "    content = file.read().replace(\"Python\", \"Java\")\n",
    "with open(\"file.txt\", \"w\") as file:\n",
    "    file.write(content)\n",
    "\n",
    "# Step 3: Read the updated file and print it\n",
    "with open(\"file.txt\", \"r\") as file:\n",
    "    updated_content = file.read()\n",
    "    print(\"Updated content:\\n\" + updated_content)\n"
   ]
  },
  {
   "cell_type": "markdown",
   "id": "bea983a3",
   "metadata": {},
   "source": []
  },
  {
   "cell_type": "code",
   "execution_count": null,
   "id": "dcf6ca38",
   "metadata": {},
   "outputs": [],
   "source": []
  }
 ],
 "metadata": {
  "kernelspec": {
   "display_name": "Python [conda env:base] *",
   "language": "python",
   "name": "conda-base-py"
  },
  "language_info": {
   "codemirror_mode": {
    "name": "ipython",
    "version": 3
   },
   "file_extension": ".py",
   "mimetype": "text/x-python",
   "name": "python",
   "nbconvert_exporter": "python",
   "pygments_lexer": "ipython3",
   "version": "3.12.7"
  }
 },
 "nbformat": 4,
 "nbformat_minor": 5
}
