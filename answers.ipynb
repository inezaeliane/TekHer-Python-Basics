{
 "cells": [
  {
   "cell_type": "markdown",
   "id": "dc4bfd3d-271b-42c3-9fa1-bc0f3bbca932",
   "metadata": {},
   "source": [
    "# Exercise 1"
   ]
  },
  {
   "cell_type": "code",
   "execution_count": 11,
   "id": "a0cd6241-adb5-47e0-b6d9-ce54a4e7e44f",
   "metadata": {},
   "outputs": [
    {
     "data": {
      "text/plain": [
       "10"
      ]
     },
     "execution_count": 11,
     "metadata": {},
     "output_type": "execute_result"
    }
   ],
   "source": [
    "x=10\n",
    "x"
   ]
  },
  {
   "cell_type": "markdown",
   "id": "5f483373-8911-4992-b9dd-04abb55a1ea7",
   "metadata": {},
   "source": [
    "# Exercise 2"
   ]
  },
  {
   "cell_type": "code",
   "execution_count": 20,
   "id": "bd68f445-c1fb-41a2-91b5-459ac32b2b82",
   "metadata": {},
   "outputs": [
    {
     "data": {
      "text/plain": [
       "True"
      ]
     },
     "execution_count": 20,
     "metadata": {},
     "output_type": "execute_result"
    }
   ],
   "source": [
    "is_valid=True\n",
    "is_valid"
   ]
  },
  {
   "cell_type": "markdown",
   "id": "6ae70d88-d8b9-4cb1-b785-ff8c15ee6976",
   "metadata": {},
   "source": [
    "# Exercise 3"
   ]
  },
  {
   "cell_type": "code",
   "execution_count": 30,
   "id": "960102f0-0a37-452e-ac95-451cb666a16f",
   "metadata": {},
   "outputs": [
    {
     "name": "stdout",
     "output_type": "stream",
     "text": [
      "Python Programming\n"
     ]
    }
   ],
   "source": [
    "name='Python Programming'\n",
    "print(name)"
   ]
  },
  {
   "cell_type": "markdown",
   "id": "3c7e2592-b3ca-43e8-a3bf-d496b576c55b",
   "metadata": {},
   "source": [
    "# Exercise 4"
   ]
  },
  {
   "cell_type": "code",
   "execution_count": 35,
   "id": "bafe1792-16d0-49e9-b6ac-35bf68af6820",
   "metadata": {},
   "outputs": [
    {
     "data": {
      "text/plain": [
       "8"
      ]
     },
     "execution_count": 35,
     "metadata": {},
     "output_type": "execute_result"
    }
   ],
   "source": [
    "sum_result=5 + 3\n",
    "sum_result"
   ]
  },
  {
   "cell_type": "markdown",
   "id": "5efca7a9-8036-4717-804a-9f6eb61a0082",
   "metadata": {},
   "source": [
    "# Exercise 5"
   ]
  },
  {
   "cell_type": "code",
   "execution_count": 50,
   "id": "f5b646ce-8207-4cc1-b29c-f873d3910744",
   "metadata": {},
   "outputs": [
    {
     "name": "stdout",
     "output_type": "stream",
     "text": [
      "5 10 15\n"
     ]
    }
   ],
   "source": [
    "a,b,c=5,10,15\n",
    "print(a,b,c)"
   ]
  },
  {
   "cell_type": "markdown",
   "id": "fb578880-ad1e-4424-b72b-71aa0ca6b621",
   "metadata": {},
   "source": [
    "# Exercise 6"
   ]
  },
  {
   "cell_type": "code",
   "execution_count": 57,
   "id": "1ea1b55e-7c9a-4c21-a5fe-d3d7e0f2a2d3",
   "metadata": {},
   "outputs": [
    {
     "data": {
      "text/plain": [
       "5"
      ]
     },
     "execution_count": 57,
     "metadata": {},
     "output_type": "execute_result"
    }
   ],
   "source": [
    "x=5\n",
    "y=x\n",
    "y"
   ]
  },
  {
   "cell_type": "markdown",
   "id": "a6dbc5c1-34bd-4666-929c-2318f42fac0a",
   "metadata": {},
   "source": [
    "# Exercise 7"
   ]
  },
  {
   "cell_type": "code",
   "execution_count": 62,
   "id": "518f87dc-45d2-46ee-9f44-b05e02bced7f",
   "metadata": {},
   "outputs": [
    {
     "data": {
      "text/plain": [
       "9.8"
      ]
     },
     "execution_count": 62,
     "metadata": {},
     "output_type": "execute_result"
    }
   ],
   "source": [
    "gravity = 9.8\n",
    "gravity"
   ]
  },
  {
   "cell_type": "markdown",
   "id": "06aa63c4-65b2-4405-b23d-2d8e982b0e21",
   "metadata": {},
   "source": [
    "# Exercise 8"
   ]
  },
  {
   "cell_type": "code",
   "execution_count": 69,
   "id": "74a1363f-62f9-4032-a215-9177668f2e66",
   "metadata": {},
   "outputs": [
    {
     "name": "stdout",
     "output_type": "stream",
     "text": [
      "Rwanda\n"
     ]
    }
   ],
   "source": [
    "country = \"Rwanda\"\n",
    "print(country)"
   ]
  },
  {
   "cell_type": "markdown",
   "id": "39e078a0-1e1a-43a4-8019-27964ee03e27",
   "metadata": {},
   "source": [
    "# Exercise 9"
   ]
  },
  {
   "cell_type": "code",
   "execution_count": 86,
   "id": "c4beb43e-9a55-4cfc-976c-ecd3247259d3",
   "metadata": {},
   "outputs": [
    {
     "data": {
      "text/plain": [
       "26"
      ]
     },
     "execution_count": 86,
     "metadata": {},
     "output_type": "execute_result"
    }
   ],
   "source": [
    "age=25\n",
    "age=26\n",
    "age"
   ]
  },
  {
   "cell_type": "markdown",
   "id": "55abb180-a6b1-43a3-9bcd-b5606106ab23",
   "metadata": {},
   "source": [
    "# Exercise 10\n"
   ]
  },
  {
   "cell_type": "code",
   "execution_count": 100,
   "id": "a9ad4072-b3a7-41a2-9355-b27322c7a616",
   "metadata": {},
   "outputs": [
    {
     "data": {
      "text/plain": [
       "13"
      ]
     },
     "execution_count": 100,
     "metadata": {},
     "output_type": "execute_result"
    }
   ],
   "source": [
    "result = 20 - 7\n",
    "result"
   ]
  },
  {
   "cell_type": "markdown",
   "id": "5ecea2dd-5425-474c-acbf-c7be074ee809",
   "metadata": {},
   "source": [
    "# Exercise 11"
   ]
  },
  {
   "cell_type": "code",
   "execution_count": 114,
   "id": "8b1f0fc7-2ab5-4764-8106-7c3f621e0bd4",
   "metadata": {},
   "outputs": [
    {
     "name": "stdout",
     "output_type": "stream",
     "text": [
      "10\n",
      "3.14\n"
     ]
    }
   ],
   "source": [
    "my_integer = 10\n",
    "my_float = 3.14\n",
    "print(my_integer)\n",
    "print(my_float)"
   ]
  },
  {
   "cell_type": "markdown",
   "id": "801038af-7e84-4a6f-aa75-a60b6bfc8d2f",
   "metadata": {},
   "source": [
    "# Exercise 12"
   ]
  },
  {
   "cell_type": "code",
   "execution_count": 117,
   "id": "887cd141-0c74-4ed6-b367-bcbc6ea5193d",
   "metadata": {},
   "outputs": [
    {
     "data": {
      "text/plain": [
       "False"
      ]
     },
     "execution_count": 117,
     "metadata": {},
     "output_type": "execute_result"
    }
   ],
   "source": [
    "is_completed = False\n",
    "is_completed"
   ]
  },
  {
   "cell_type": "markdown",
   "id": "314fc4ac-beef-4ca7-b0fe-80430a7e6195",
   "metadata": {},
   "source": [
    "# Exercise 13"
   ]
  },
  {
   "cell_type": "code",
   "execution_count": 124,
   "id": "da19b1b0-03b8-4c3a-ad21-274c30f3fec0",
   "metadata": {},
   "outputs": [
    {
     "name": "stdout",
     "output_type": "stream",
     "text": [
      "10\n",
      "5\n"
     ]
    }
   ],
   "source": [
    "x = 5\n",
    "y = 10\n",
    "\n",
    "# Swap the values\n",
    "x, y = y, x\n",
    "print(x)\n",
    "print(y)"
   ]
  },
  {
   "cell_type": "markdown",
   "id": "e62fb719-a2e0-4ad8-8de0-5fc35dcec4e9",
   "metadata": {},
   "source": [
    "# Exercise 14"
   ]
  },
  {
   "cell_type": "code",
   "execution_count": 133,
   "id": "031ff9f8-6efd-4594-8932-7216ae0001ef",
   "metadata": {},
   "outputs": [
    {
     "name": "stdout",
     "output_type": "stream",
     "text": [
      "(3+4j)\n",
      "<class 'complex'>\n"
     ]
    }
   ],
   "source": [
    "complex_num = 3 + 4j\n",
    "print(complex_num)\n",
    "print(type(complex_num))"
   ]
  },
  {
   "cell_type": "markdown",
   "id": "d6d2e941-d150-4e8f-bb35-2e4b2b4b5743",
   "metadata": {},
   "source": [
    "# Exercise 15"
   ]
  },
  {
   "cell_type": "code",
   "execution_count": 137,
   "id": "1194d937-17a7-4140-bbfd-b4b009d7ab3e",
   "metadata": {},
   "outputs": [
    {
     "name": "stdout",
     "output_type": "stream",
     "text": [
      "ten\n",
      "<class 'str'>\n"
     ]
    }
   ],
   "source": [
    "var = 10        \n",
    "var = \"ten\"     \n",
    "print(var)        \n",
    "print(type(var)) \n"
   ]
  },
  {
   "cell_type": "markdown",
   "id": "9ba39ea0-b964-4e17-a880-5b92a54a1d24",
   "metadata": {},
   "source": [
    "# Exercise 16"
   ]
  },
  {
   "cell_type": "code",
   "execution_count": 149,
   "id": "5070d638-5f39-411a-8c56-ea10a915aa72",
   "metadata": {},
   "outputs": [
    {
     "name": "stdout",
     "output_type": "stream",
     "text": [
      "Ineza\n",
      "Eliane\n"
     ]
    }
   ],
   "source": [
    "first_name = \"Ineza\"\n",
    "last_name = \"Eliane\"\n",
    "print(first_name)\n",
    "print(last_name)"
   ]
  },
  {
   "cell_type": "markdown",
   "id": "971dea0c-aee5-49ae-965b-106e76b808ea",
   "metadata": {},
   "source": [
    "# Exercise 17\n"
   ]
  },
  {
   "cell_type": "code",
   "execution_count": 145,
   "id": "32e704c0-8255-41a4-9f9d-0917332cacb0",
   "metadata": {},
   "outputs": [
    {
     "data": {
      "text/plain": [
       "35.5"
      ]
     },
     "execution_count": 145,
     "metadata": {},
     "output_type": "execute_result"
    }
   ],
   "source": [
    "temperature = 35.5\n",
    "temperature"
   ]
  },
  {
   "cell_type": "markdown",
   "id": "d111d3fa-01bf-4e3f-9c6f-37c1237b89b8",
   "metadata": {},
   "source": [
    "# Exercise 18"
   ]
  },
  {
   "cell_type": "code",
   "execution_count": 154,
   "id": "20f9bfb3-80b0-4a95-99b7-0733ab13696a",
   "metadata": {},
   "outputs": [
    {
     "data": {
      "text/plain": [
       "48"
      ]
     },
     "execution_count": 154,
     "metadata": {},
     "output_type": "execute_result"
    }
   ],
   "source": [
    "product = 8 * 6\n",
    "product"
   ]
  },
  {
   "cell_type": "markdown",
   "id": "d464c8e1-e0c5-4c2f-b813-a5e0b204337a",
   "metadata": {},
   "source": [
    "# Exercise 19"
   ]
  },
  {
   "cell_type": "code",
   "execution_count": 161,
   "id": "7f1a4469-ad6f-46fb-8ef3-7c1841e348a0",
   "metadata": {},
   "outputs": [
    {
     "name": "stdout",
     "output_type": "stream",
     "text": [
      "Data analytics is my best choice\n"
     ]
    }
   ],
   "source": [
    "sentence = \"Data analytics is my best choice\"\n",
    "print(sentence)"
   ]
  },
  {
   "cell_type": "markdown",
   "id": "411c183b-2aab-41e7-998b-36ed576b182f",
   "metadata": {},
   "source": [
    "# Exercise 20"
   ]
  },
  {
   "cell_type": "code",
   "execution_count": 166,
   "id": "036ede6a-fa70-4b36-a326-2c89c0f6284e",
   "metadata": {},
   "outputs": [
    {
     "name": "stdout",
     "output_type": "stream",
     "text": [
      "50\n",
      "<class 'int'>\n"
     ]
    }
   ],
   "source": [
    "int_value = int('50')\n",
    "print(int_value)       \n",
    "print(type(int_value)) \n"
   ]
  },
  {
   "cell_type": "markdown",
   "id": "6ecc35cf-5cce-4da0-879a-b83e4c445c06",
   "metadata": {},
   "source": [
    "# Exercise 21"
   ]
  },
  {
   "cell_type": "code",
   "execution_count": 169,
   "id": "6bb4c3de-32c9-471b-b480-04efe7f2d6a3",
   "metadata": {},
   "outputs": [
    {
     "name": "stdout",
     "output_type": "stream",
     "text": [
      "12.0\n",
      "<class 'float'>\n"
     ]
    }
   ],
   "source": [
    "quotient = 144 / 12\n",
    "print(quotient)       \n",
    "print(type(quotient)) \n"
   ]
  },
  {
   "cell_type": "markdown",
   "id": "d96dd8b1-7401-4e00-af44-06f75e06e337",
   "metadata": {},
   "source": [
    "# Exercise 22"
   ]
  },
  {
   "cell_type": "code",
   "execution_count": 172,
   "id": "e0d29371-b924-4b53-8da5-d23165445249",
   "metadata": {},
   "outputs": [
    {
     "name": "stdout",
     "output_type": "stream",
     "text": [
      "2\n"
     ]
    }
   ],
   "source": [
    "remainder = 47 % 5\n",
    "print(remainder)  "
   ]
  },
  {
   "cell_type": "markdown",
   "id": "678364f9-88dc-43e2-a036-3273d771d534",
   "metadata": {},
   "source": [
    "# Exercise 23"
   ]
  },
  {
   "cell_type": "code",
   "execution_count": 177,
   "id": "447f6347-f489-4656-8725-4f8417ce12aa",
   "metadata": {},
   "outputs": [
    {
     "name": "stdout",
     "output_type": "stream",
     "text": [
      "True\n",
      "<class 'bool'>\n"
     ]
    }
   ],
   "source": [
    "is_student = True\n",
    "print(is_student)       \n",
    "print(type(is_student)) \n"
   ]
  },
  {
   "cell_type": "markdown",
   "id": "dbbcc669-c8d3-4880-9ebe-51ea61ee0144",
   "metadata": {},
   "source": [
    "# Exercise 24"
   ]
  },
  {
   "cell_type": "code",
   "execution_count": 180,
   "id": "a8034972-af51-4d04-adda-0e2a70f19cef",
   "metadata": {},
   "outputs": [
    {
     "data": {
      "text/plain": [
       "1"
      ]
     },
     "execution_count": 180,
     "metadata": {},
     "output_type": "execute_result"
    }
   ],
   "source": [
    "mod_result = 45 % 4\n",
    "mod_result"
   ]
  },
  {
   "cell_type": "markdown",
   "id": "bf9ce797-1613-42c6-a3dd-e38de43059bc",
   "metadata": {},
   "source": [
    "# Exercise 25"
   ]
  },
  {
   "cell_type": "code",
   "execution_count": 185,
   "id": "20ce893e-60da-4810-8b27-31750f38f61b",
   "metadata": {},
   "outputs": [
    {
     "name": "stdout",
     "output_type": "stream",
     "text": [
      "3.14159\n",
      "<class 'float'>\n"
     ]
    }
   ],
   "source": [
    "pi = 3.14159\n",
    "print(pi)       \n",
    "print(type(pi)) \n"
   ]
  },
  {
   "cell_type": "markdown",
   "id": "c244258c-6efb-4568-9a66-e9694e1ade41",
   "metadata": {},
   "source": [
    "# Exercise 26"
   ]
  },
  {
   "cell_type": "code",
   "execution_count": 190,
   "id": "04084b3e-b294-4b28-9fad-482de53e0ffd",
   "metadata": {},
   "outputs": [
    {
     "data": {
      "text/plain": [
       "50"
      ]
     },
     "execution_count": 190,
     "metadata": {},
     "output_type": "execute_result"
    }
   ],
   "source": [
    "length = 10\n",
    "width = 5\n",
    "\n",
    "area = length * width\n",
    "area"
   ]
  },
  {
   "cell_type": "markdown",
   "id": "d19d1bb3-5641-4606-a07b-c8b87a3d7ab5",
   "metadata": {},
   "source": [
    "# Exercise 27"
   ]
  },
  {
   "cell_type": "code",
   "execution_count": 193,
   "id": "e48e56dc-4f9c-4f15-ba5c-14c2dddc99f0",
   "metadata": {},
   "outputs": [
    {
     "data": {
      "text/plain": [
       "-25"
      ]
     },
     "execution_count": 193,
     "metadata": {},
     "output_type": "execute_result"
    }
   ],
   "source": [
    "negative_value = -25\n",
    "negative_value"
   ]
  },
  {
   "cell_type": "markdown",
   "id": "7c9a9097-57db-4aa2-b171-57e8f9650f7f",
   "metadata": {},
   "source": [
    "# Exercise 28"
   ]
  },
  {
   "cell_type": "code",
   "execution_count": 198,
   "id": "71c07d94-ddc2-47ba-8ad2-4f96e0e97dab",
   "metadata": {},
   "outputs": [
    {
     "name": "stdout",
     "output_type": "stream",
     "text": [
      "Hello, World!\n"
     ]
    }
   ],
   "source": [
    "greeting = \"Hello, World!\"\n",
    "print(greeting)"
   ]
  },
  {
   "cell_type": "markdown",
   "id": "7131b0e4-d046-4523-8b92-60f5c8653208",
   "metadata": {},
   "source": [
    "# Exercise 29"
   ]
  },
  {
   "cell_type": "code",
   "execution_count": 201,
   "id": "d4cf68b1-dac7-4b51-8265-d72499802cc7",
   "metadata": {},
   "outputs": [
    {
     "data": {
      "text/plain": [
       "7800000000"
      ]
     },
     "execution_count": 201,
     "metadata": {},
     "output_type": "execute_result"
    }
   ],
   "source": [
    "population = 7800000000  \n",
    "population"
   ]
  },
  {
   "cell_type": "markdown",
   "id": "807fa661-9728-453c-95ed-b0e4dedf3405",
   "metadata": {},
   "source": [
    "# Exercise 30"
   ]
  },
  {
   "cell_type": "code",
   "execution_count": 206,
   "id": "81cac724-e48c-491e-bfac-a9e3ac165c67",
   "metadata": {},
   "outputs": [
    {
     "data": {
      "text/plain": [
       "256"
      ]
     },
     "execution_count": 206,
     "metadata": {},
     "output_type": "execute_result"
    }
   ],
   "source": [
    "power_result = 2 ** 8\n",
    "power_result"
   ]
  },
  {
   "cell_type": "markdown",
   "id": "e2b5440d-a7df-49a4-83b4-0bf1a97b11a3",
   "metadata": {},
   "source": [
    "# Exercise 31"
   ]
  },
  {
   "cell_type": "code",
   "execution_count": 213,
   "id": "f38d042d-d1e7-4aea-8e72-109a7482d5fe",
   "metadata": {},
   "outputs": [
    {
     "name": "stdout",
     "output_type": "stream",
     "text": [
      "['mango', 'banana', 'pineapple', 'strawberry']\n"
     ]
    }
   ],
   "source": [
    "fruits = [\"mango\", \"banana\", \"pineapple\", \"strawberry\"]\n",
    "print(fruits)"
   ]
  },
  {
   "cell_type": "markdown",
   "id": "cb2c7d08-8991-4cc7-926e-da42d25d22ca",
   "metadata": {},
   "source": [
    "# Exercize 32"
   ]
  },
  {
   "cell_type": "code",
   "execution_count": 221,
   "id": "bba1a134-655e-4f0e-bf5f-7e3e3f8d9f68",
   "metadata": {},
   "outputs": [
    {
     "data": {
      "text/plain": [
       "(10, 20, 30)"
      ]
     },
     "execution_count": 221,
     "metadata": {},
     "output_type": "execute_result"
    }
   ],
   "source": [
    "coordinates = (10, 20, 30)\n",
    "coordinates"
   ]
  },
  {
   "cell_type": "markdown",
   "id": "9966541d-fe3d-4ea4-a2fa-c19c58a99cf7",
   "metadata": {},
   "source": [
    "# Exercise 33"
   ]
  },
  {
   "cell_type": "code",
   "execution_count": 226,
   "id": "cc58529d-75f7-49d6-bba5-ec325c30c848",
   "metadata": {},
   "outputs": [
    {
     "name": "stdout",
     "output_type": "stream",
     "text": [
      "{'name': 'Ineza', 'age': 23}\n",
      "Ineza\n",
      "23\n"
     ]
    }
   ],
   "source": [
    "person = {\n",
    "    \"name\": \"Ineza\",\n",
    "    \"age\": 23\n",
    "}\n",
    "print(person)\n",
    "print(person[\"name\"])\n",
    "print(person[\"age\"])"
   ]
  },
  {
   "cell_type": "markdown",
   "id": "7ec56bfe-84bd-41cf-99e6-c656e5fd7402",
   "metadata": {},
   "source": [
    "# Exercise 34"
   ]
  },
  {
   "cell_type": "code",
   "execution_count": 229,
   "id": "939d8c77-0fad-47ac-8480-0c6fa868ee6b",
   "metadata": {},
   "outputs": [
    {
     "name": "stdout",
     "output_type": "stream",
     "text": [
      "9.0\n"
     ]
    }
   ],
   "source": [
    "num1 = 5.75\n",
    "num2 = 3.25\n",
    "\n",
    "total = num1 + num2\n",
    "print(total)  \n"
   ]
  },
  {
   "cell_type": "markdown",
   "id": "1c42ec1c-858a-4b4f-9df2-a9dbb8a6689d",
   "metadata": {},
   "source": [
    "# Exercise 35"
   ]
  },
  {
   "cell_type": "code",
   "execution_count": 232,
   "id": "5571aac4-00c9-4604-aaa7-4934cf6d039b",
   "metadata": {},
   "outputs": [
    {
     "name": "stdout",
     "output_type": "stream",
     "text": [
      "True\n",
      "<class 'bool'>\n"
     ]
    }
   ],
   "source": [
    "is_sunny = 10 > 5\n",
    "print(is_sunny)       \n",
    "print(type(is_sunny)) \n"
   ]
  },
  {
   "cell_type": "markdown",
   "id": "1f61621c-878a-4a6d-b4f7-483e7f68fe4f",
   "metadata": {},
   "source": [
    "# Exercise 36"
   ]
  },
  {
   "cell_type": "code",
   "execution_count": 235,
   "id": "7c5aeef6-63f5-4e7a-af55-090354654a4e",
   "metadata": {},
   "outputs": [
    {
     "name": "stdout",
     "output_type": "stream",
     "text": [
      "Ishimwe 23\n"
     ]
    }
   ],
   "source": [
    "name = \"Ishimwe\"\n",
    "age = 23\n",
    "\n",
    "print(name, age)\n"
   ]
  },
  {
   "cell_type": "markdown",
   "id": "88569c6b-2d96-459d-a6c2-6fb5a71f4d1c",
   "metadata": {},
   "source": [
    "# Exercise 37"
   ]
  },
  {
   "cell_type": "code",
   "execution_count": 238,
   "id": "838065d1-047b-4690-9df9-1826321b4d42",
   "metadata": {},
   "outputs": [
    {
     "name": "stdout",
     "output_type": "stream",
     "text": [
      "True\n",
      "<class 'bool'>\n"
     ]
    }
   ],
   "source": [
    "value = 100      \n",
    "value = True      \n",
    "print(value)       \n",
    "print(type(value))  \n"
   ]
  },
  {
   "cell_type": "markdown",
   "id": "ba790056-02cd-47ba-bd57-1d3f7f6db95f",
   "metadata": {},
   "source": [
    "# Exercise 38"
   ]
  },
  {
   "cell_type": "code",
   "execution_count": 241,
   "id": "a92fe56b-81c1-4ca8-9626-ea98e717881b",
   "metadata": {},
   "outputs": [
    {
     "data": {
      "text/plain": [
       "False"
      ]
     },
     "execution_count": 241,
     "metadata": {},
     "output_type": "execute_result"
    }
   ],
   "source": [
    "is_weekend=False\n",
    "is_weekend"
   ]
  },
  {
   "cell_type": "markdown",
   "id": "224b540f-36fe-4e2a-bd2e-2fc8ae5219ac",
   "metadata": {},
   "source": [
    "# Exercise 39"
   ]
  },
  {
   "cell_type": "code",
   "execution_count": 248,
   "id": "8a41a996-75c4-4ed8-9372-b8d4e3da180a",
   "metadata": {},
   "outputs": [
    {
     "name": "stdout",
     "output_type": "stream",
     "text": [
      "Business Information Technology (BIT) combines\n",
      "the principles of business management with information\n",
      "technology to improve organizational processes.\n",
      "It involves data analysis, system design, software\n",
      "development, and strategic decision-making using technology.\n"
     ]
    }
   ],
   "source": [
    "description = \"\"\"Business Information Technology (BIT) combines\n",
    "the principles of business management with information\n",
    "technology to improve organizational processes.\n",
    "It involves data analysis, system design, software\n",
    "development, and strategic decision-making using technology.\"\"\"\n",
    "\n",
    "print(description)\n"
   ]
  },
  {
   "cell_type": "markdown",
   "id": "15632e97-bfb5-43be-8333-3ad9b6cca8df",
   "metadata": {},
   "source": [
    "# Exercise 40"
   ]
  },
  {
   "cell_type": "code",
   "execution_count": 254,
   "id": "47b7332d-d773-49fa-a847-68c40be6ba58",
   "metadata": {},
   "outputs": [
    {
     "data": {
      "text/plain": [
       "15"
      ]
     },
     "execution_count": 254,
     "metadata": {},
     "output_type": "execute_result"
    }
   ],
   "source": [
    "c"
   ]
  },
  {
   "cell_type": "markdown",
   "id": "2998b1b6-d991-40a4-af81-599bcd157fea",
   "metadata": {},
   "source": [
    "# Exercise 41"
   ]
  },
  {
   "cell_type": "code",
   "execution_count": 257,
   "id": "398f934d-8bbd-4a59-809a-646bdfecad28",
   "metadata": {},
   "outputs": [
    {
     "data": {
      "text/plain": [
       "16"
      ]
     },
     "execution_count": 257,
     "metadata": {},
     "output_type": "execute_result"
    }
   ],
   "source": [
    "floor_div_result = 100 // 6\n",
    "floor_div_result"
   ]
  },
  {
   "cell_type": "markdown",
   "id": "fe42d593-b9f5-45b4-85d6-fdd16c5ed9a2",
   "metadata": {},
   "source": [
    "# Exercise 42"
   ]
  },
  {
   "cell_type": "code",
   "execution_count": 260,
   "id": "9ee90b6c-feed-4e84-84b3-423797c59485",
   "metadata": {},
   "outputs": [
    {
     "data": {
      "text/plain": [
       "8.7"
      ]
     },
     "execution_count": 260,
     "metadata": {},
     "output_type": "execute_result"
    }
   ],
   "source": [
    "mixed_sum = 5 + 3.7\n",
    "mixed_sum"
   ]
  },
  {
   "cell_type": "markdown",
   "id": "4dabdafa-6d36-4957-9e9e-5dd438c3bd64",
   "metadata": {},
   "source": [
    "# Exercise 43"
   ]
  },
  {
   "cell_type": "code",
   "execution_count": 267,
   "id": "3de028a5-d193-4096-8533-cf35cdd4fe44",
   "metadata": {},
   "outputs": [
    {
     "name": "stdout",
     "output_type": "stream",
     "text": [
      "Alex Morgan\n"
     ]
    }
   ],
   "source": [
    "first_name = \"Alex\"\n",
    "last_name = \"Morgan\"\n",
    "full_name = first_name + \" \" + last_name\n",
    "print(full_name)"
   ]
  },
  {
   "cell_type": "markdown",
   "id": "2e95b338-447e-4da9-b0e2-0a8511496bca",
   "metadata": {},
   "source": [
    "# Exercise 44\n"
   ]
  },
  {
   "cell_type": "code",
   "execution_count": 270,
   "id": "efc013bd-aa21-462e-98d1-347cb5765152",
   "metadata": {},
   "outputs": [
    {
     "data": {
      "text/plain": [
       "[]"
      ]
     },
     "execution_count": 270,
     "metadata": {},
     "output_type": "execute_result"
    }
   ],
   "source": [
    "empty_list = []\n",
    "empty_list"
   ]
  },
  {
   "cell_type": "markdown",
   "id": "9a6f546f-798d-4b27-bc6f-b13d8ba93e88",
   "metadata": {},
   "source": [
    "# Exercise 45"
   ]
  },
  {
   "cell_type": "code",
   "execution_count": 277,
   "id": "d17d76b3-bb71-478b-bbb8-85be915526dd",
   "metadata": {},
   "outputs": [
    {
     "name": "stdout",
     "output_type": "stream",
     "text": [
      "True\n"
     ]
    }
   ],
   "source": [
    "a = 10\n",
    "b = 15\n",
    "is_a_less_than_b = a < b\n",
    "\n",
    "print(is_a_less_than_b)  \n"
   ]
  },
  {
   "cell_type": "markdown",
   "id": "7ec14d8d-a6e0-43c6-95cd-f962d3da9a9e",
   "metadata": {},
   "source": [
    "# Exercise 46"
   ]
  },
  {
   "cell_type": "code",
   "execution_count": 280,
   "id": "fdaf99b9-9203-4996-9c7e-b7a64ca27b74",
   "metadata": {},
   "outputs": [
    {
     "name": "stdout",
     "output_type": "stream",
     "text": [
      "68\n"
     ]
    }
   ],
   "source": [
    "sentence = \"Data science combines statistics, programming, and domain knowledge.\"\n",
    "character_count = len(sentence)\n",
    "\n",
    "print(character_count)  \n"
   ]
  },
  {
   "cell_type": "markdown",
   "id": "4aa80dcc-7591-4950-994a-101c60ba73ca",
   "metadata": {},
   "source": [
    "# Exercise 47"
   ]
  },
  {
   "cell_type": "code",
   "execution_count": 283,
   "id": "ec62a04a-662d-4a24-8572-7b00087630c6",
   "metadata": {},
   "outputs": [
    {
     "data": {
      "text/plain": [
       "2.3333333333333335"
      ]
     },
     "execution_count": 283,
     "metadata": {},
     "output_type": "execute_result"
    }
   ],
   "source": [
    "division_result = 7 / 3\n",
    "division_result"
   ]
  },
  {
   "cell_type": "markdown",
   "id": "a50e61b2-63e3-4450-a922-f01c1998e531",
   "metadata": {},
   "source": [
    "# Exercise 48"
   ]
  },
  {
   "cell_type": "code",
   "execution_count": 286,
   "id": "a3149225-1009-48e9-b492-9c8b5fb76543",
   "metadata": {},
   "outputs": [
    {
     "name": "stdout",
     "output_type": "stream",
     "text": [
      "The speed is 100 km/h\n"
     ]
    }
   ],
   "source": [
    "speed = 100  \n",
    "print(\"The speed is\", speed, \"km/h\")\n"
   ]
  },
  {
   "cell_type": "markdown",
   "id": "35399fb9-10f0-4683-9c39-5a433400ed1d",
   "metadata": {},
   "source": [
    "# Exercize 49"
   ]
  },
  {
   "cell_type": "code",
   "execution_count": 289,
   "id": "cb4d3eb4-dcee-485b-9d70-9db074de1d44",
   "metadata": {},
   "outputs": [
    {
     "name": "stdout",
     "output_type": "stream",
     "text": [
      "The value of y is 17\n"
     ]
    }
   ],
   "source": [
    "x = 4\n",
    "y = 3 * x + 5\n",
    "\n",
    "print(\"The value of y is\", y)\n"
   ]
  },
  {
   "cell_type": "markdown",
   "id": "4c548af4-4247-4904-9640-e8cb6f89f1c2",
   "metadata": {},
   "source": [
    "# Exercise 50"
   ]
  },
  {
   "cell_type": "code",
   "execution_count": 294,
   "id": "0f642ee0-c221-4cbb-8e84-85e3cbcfd6a0",
   "metadata": {},
   "outputs": [
    {
     "name": "stdout",
     "output_type": "stream",
     "text": [
      "The average is 20.0\n"
     ]
    }
   ],
   "source": [
    "num1 = 10\n",
    "num2 = 20\n",
    "num3 = 30\n",
    "\n",
    "average = (num1 + num2 + num3) / 3\n",
    "\n",
    "print(\"The average is\", average)\n"
   ]
  },
  {
   "cell_type": "code",
   "execution_count": null,
   "id": "fedca5e5-52f7-4099-8df7-b644c84f8139",
   "metadata": {},
   "outputs": [],
   "source": []
  }
 ],
 "metadata": {
  "kernelspec": {
   "display_name": "Python [conda env:base] *",
   "language": "python",
   "name": "conda-base-py"
  },
  "language_info": {
   "codemirror_mode": {
    "name": "ipython",
    "version": 3
   },
   "file_extension": ".py",
   "mimetype": "text/x-python",
   "name": "python",
   "nbconvert_exporter": "python",
   "pygments_lexer": "ipython3",
   "version": "3.12.7"
  }
 },
 "nbformat": 4,
 "nbformat_minor": 5
}
